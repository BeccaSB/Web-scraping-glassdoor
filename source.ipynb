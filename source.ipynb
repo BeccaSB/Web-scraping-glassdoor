{
 "cells": [
  {
   "cell_type": "code",
   "execution_count": 129,
   "id": "6333af9b-6afe-43b6-ba19-b7f38c54d143",
   "metadata": {
    "tags": []
   },
   "outputs": [],
   "source": [
    "import csv\n",
    "from datetime import datetime\n",
    "import requests\n",
    "from bs4 import BeautifulSoup\n",
    "import time"
   ]
  },
  {
   "cell_type": "code",
   "execution_count": 130,
   "id": "a798c8c2-d79b-411a-8a77-d163a398f462",
   "metadata": {
    "tags": []
   },
   "outputs": [],
   "source": [
    "\n",
    "def get_url(position, location):\n",
    "    \"\"\"Generate url from position and location\"\"\"\n",
    "    template = \"https://www.glassdoor.com/Job/jobs.htm?sc.keyword={}&locT=C&locId=1139970&JobType=all&fromAge=1\"\n",
    "    position = position.replace(\" \", \"+\")\n",
    "    location = location.replace(\" \", \"+\")\n",
    "    url = template.format(position, location)\n",
    "    return url"
   ]
  },
  {
   "cell_type": "code",
   "execution_count": 131,
   "id": "4adcec16-54a1-4da4-b33e-074ce06e73e7",
   "metadata": {
    "tags": []
   },
   "outputs": [],
   "source": [
    "def get_record(card):\n",
    "    \"\"\"Extract job data from a single record\"\"\"\n",
    "    atags = card.find_all(\"a\")\n",
    "    try:\n",
    "        job_title = atags[0].text.strip()\n",
    "    except IndexError:\n",
    "        job_title = \"\"\n",
    "    try:\n",
    "        company = atags[1].text.strip()\n",
    "    except IndexError:\n",
    "        company = \"\"\n",
    "    try:\n",
    "        job_location = card.find(\"span\", {\"class\": \"jobLocation\"}).text.strip()\n",
    "    except AttributeError:\n",
    "        job_location = \"\"\n",
    "    try:\n",
    "        post_date = card.find(\"span\", {\"class\": \"jobAge\"}).text.strip()\n",
    "    except AttributeError:\n",
    "        post_date = \"\"\n",
    "    try:\n",
    "        summary = card.find(\"div\", {\"class\": \"jobDescriptionContent\"}).text.strip()\n",
    "    except AttributeError:\n",
    "        summary = \"\"\n",
    "    try:\n",
    "        salary = card.find(\"span\", {\"class\": \"salaryText\"}).text.strip()\n",
    "    except AttributeError:\n",
    "        salary = \"\"\n",
    "    try:\n",
    "        job_url = \"https://www.glassdoor.com\" + atags[0][\"href\"]\n",
    "    except (IndexError, TypeError):\n",
    "        job_url = \"\"\n",
    "\n",
    "    today = datetime.today().strftime(\"%Y-%m-%d\")\n",
    "    record = (job_title, company, job_location, post_date, today, summary, salary, job_url)\n",
    "    return record"
   ]
  },
  {
   "cell_type": "code",
   "execution_count": 132,
   "id": "0d8763da-f489-4fb5-a742-78953a5eca88",
   "metadata": {
    "tags": []
   },
   "outputs": [],
   "source": [
    "\n",
    "def main(position, location):\n",
    "    \"\"\"Run the main program routine\"\"\"\n",
    "    headers = {\n",
    "        \"User-Agent\": \"Mozilla/5.0 (Windows NT 10.0; Win64; x64) AppleWebKit/537.36 (KHTML, like Gecko) Chrome/58.0.3029.110 Safari/537.3\"\n",
    "    }\n",
    "    url = get_url(position, location)\n",
    "    records = []\n",
    "    try:\n",
    "        response = requests.get(url, headers=headers)\n",
    "        soup = BeautifulSoup(response.text, \"html.parser\")\n",
    "        cards = soup.find_all(\"li\", {\"class\": \"react-job-listing\"})\n",
    "        for card in cards:\n",
    "            record = get_record(card)\n",
    "            records.append(record)\n",
    "        with open(\"jobs.csv\", \"a\", newline=\"\", encoding=\"utf-8\") as f:\n",
    "            writer = csv.writer(f)\n",
    "            writer.writerow(\n",
    "                [\n",
    "                    \"JobTitle\",\n",
    "                    \"Company\",\n",
    "                    \"JobLocation\",\n",
    "                    \"PostDate\",\n",
    "                    \"ExtractDate\",\n",
    "                    \"Summary\",\n",
    "                    \"Salary\",\n",
    "                    \"JobUrl\",\n",
    "                ]\n",
    "            )\n",
    "            writer.writerows(records)\n",
    "    except Exception as e:\n",
    "        print(e)\n",
    "        print(\"Error scraping job postings\")\n",
    "        return None\n",
    "    print(f\"Successfully scraped {len(records)} job postings\")\n",
    "    return\n"
   ]
  },
  {
   "cell_type": "code",
   "execution_count": 133,
   "id": "683fa0d0-27f3-4a9e-a34f-f45cd1fc1b27",
   "metadata": {
    "tags": []
   },
   "outputs": [
    {
     "name": "stdout",
     "output_type": "stream",
     "text": [
      "Successfully scraped 30 job postings\n"
     ]
    }
   ],
   "source": [
    "main('developer', 'texas')"
   ]
  },
  {
   "cell_type": "code",
   "execution_count": null,
   "id": "40bb2dea-2442-40d9-83c7-18c25a376ada",
   "metadata": {},
   "outputs": [],
   "source": []
  }
 ],
 "metadata": {
  "kernelspec": {
   "display_name": "Python 3 (ipykernel)",
   "language": "python",
   "name": "python3"
  },
  "language_info": {
   "codemirror_mode": {
    "name": "ipython",
    "version": 3
   },
   "file_extension": ".py",
   "mimetype": "text/x-python",
   "name": "python",
   "nbconvert_exporter": "python",
   "pygments_lexer": "ipython3",
   "version": "3.11.0"
  }
 },
 "nbformat": 4,
 "nbformat_minor": 5
}
